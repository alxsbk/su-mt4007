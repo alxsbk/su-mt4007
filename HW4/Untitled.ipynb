{
 "cells": [
  {
   "cell_type": "markdown",
   "id": "78d0d817-d0a1-4289-a466-d357da129382",
   "metadata": {},
   "source": [
    "In this part we will work with HwW4"
   ]
  },
  {
   "cell_type": "code",
   "execution_count": 2,
   "id": "2e7957d6-c8f5-472d-bb06-97e124a50975",
   "metadata": {},
   "outputs": [],
   "source": [
    "import pandas as pd\n",
    "import numpy as np\n",
    "import matplotlib.pyplot as plt\n",
    "import sqlite3 as sql"
   ]
  },
  {
   "cell_type": "code",
   "execution_count": 6,
   "id": "375045d8-db88-4394-ace2-fdd015b11e1f",
   "metadata": {},
   "outputs": [
    {
     "e
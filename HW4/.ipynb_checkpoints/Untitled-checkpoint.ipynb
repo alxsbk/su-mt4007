{
 "cells": [
  {
   "cell_type": "markdown",
   "id": "78d0d817-d0a1-42